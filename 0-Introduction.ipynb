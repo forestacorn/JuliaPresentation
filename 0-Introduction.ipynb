{
 "cells": [
  {
   "cell_type": "markdown",
   "metadata": {
    "slideshow": {
     "slide_type": "slide"
    }
   },
   "source": [
    "# Introduction to ![Julia Logo](./images/JuliaLogo.png)\n",
    "\n",
    "### A relatively new computer programming language targeted at scientific and technical computing."
   ]
  },
  {
   "cell_type": "markdown",
   "metadata": {},
   "source": [
    "## Disclaimers\n",
    "* I am not a computer scientist but I know some computer science.\n",
    "* I can program but I am not a programmer.\n",
    "* I am a beginner with the Julia language.\n",
    "\n",
    "Hence don't have over-expectations about my presentation, but I hope you find it worthwhile.\n",
    "* Some sections I have borrowed from documentation and other peoples notes and presentations."
   ]
  },
  {
   "cell_type": "markdown",
   "metadata": {},
   "source": [
    "## Aim of Talk\n",
    "- Introduce and raise awareness of Julia\n",
    "- An invitation to Julia\n",
    "- Present some interesting features\n",
    "\n",
    "\n",
    "- **Not** a Julia tutorial, workshop or HowTo."
   ]
  },
  {
   "cell_type": "markdown",
   "metadata": {},
   "source": [
    "## Resources\n",
    "Obviously the Julia language website:\n",
    "\n",
    "> **[julialang.org](https://julialang.org/)**\n",
    "\n",
    "the best starting point to reach all the other Julia resources.\n",
    "\n",
    "*I recommend the video tutorials by David P.Sanders and Leah Hanson*"
   ]
  },
  {
   "cell_type": "markdown",
   "metadata": {},
   "source": [
    "## Origin & History\n",
    "- MIT project, principal developers:\n",
    "  - Jeff Bezanson (MIT), Stefan Karpinski (MIT), Viral B. Shah (MIT?), Alan Edelman (MIT)\n",
    "- 2012 first announcement, following two years of development at MIT\n",
    "- The team stated in their first [blog](http://julialang.org/blog/2012/02/why-we-created-julia) entry:\n",
    "> We are greedy: we want more.\n",
    ">\n",
    "> We want a language that’s open source, with a liberal license.  \n",
    "We want the speed of C with the dynamism of Ruby.  \n",
    "We want a language that’s homoiconic, with true macros like Lisp, but with obvious, familiar mathematical notation like Matlab.  \n",
    "We want something as usable for general programming as Python, as easy for statistics as R, as natural for string processing as Perl, as powerful for linear algebra as Matlab, as good at gluing programs together as the shell.  \n",
    "Something that is dirt simple to learn, yet keeps the most serious hackers happy.  \n",
    "We want it interactive and we want it compiled.  \n",
    "etc...etc...\n",
    "\n",
    "**Homoiconic:** \"the program structure is similar to its syntax\", \"program code is represented as the language's fundamental data type\"."
   ]
  },
  {
   "cell_type": "markdown",
   "metadata": {},
   "source": [
    "## Some Julia Features:\n",
    "\n",
    "- high-level and easy to learn\n",
    "- an interactive, **dynamic language**\n",
    "- Just-In-Time (**JIT**) compiled,  \n",
    "implemented using **LLVM** compiler infrastructure project ([llvm.org](https://llvm.org))\n",
    "\n",
    "- Designed for **parallelism** and **distributed computation**\n",
    "\n",
    "- has a sophisticated type system\n",
    "- has **multiple dispatch**: functions specialised on the types of their arguments\n",
    "\n",
    "- has sophisticated **metaprogramming** (macros) for generating code programatically\n",
    "- allows the creation of domain-specific languages\n",
    "- efficient support for **Unicode**\n",
    "- built-in package manager\n",
    "- call **Python functions**: use the PyCall package\n",
    "- call **C functions** directly: no wrappers or special APIs\n",
    "- Most of the standard library is implemented **in Julia itself**"
   ]
  },
  {
   "cell_type": "markdown",
   "metadata": {},
   "source": [
    "## Julia is also\n",
    "- open source and free\n",
    "- MIT license (allows commercial use)\n",
    "- developed by a worldwide community\n",
    "- \"Users are developers\"\n",
    "\n",
    "\n",
    "- a **new direction** in scientific computing\n",
    "- the **future** of scientific computing\n",
    "\n",
    "\n",
    "- My new favourite language :)"
   ]
  },
  {
   "cell_type": "markdown",
   "metadata": {},
   "source": [
    "## Julia is Fast\n",
    "- ~2-3x C speed\n",
    "\n",
    "- solves the infamous **two-language problem**\n",
    "  *  eg. writing Python but needing sections in C to acheive speed.\n",
    "\n",
    "Graph of benchmark comparison tests (*Note the logarithmic vertical scale*):\n",
    "![](file:./images/BenchmarkPlot.png)"
   ]
  },
  {
   "cell_type": "markdown",
   "metadata": {},
   "source": [
    "![](./images/BenchmarkPlot.png)"
   ]
  },
  {
   "cell_type": "markdown",
   "metadata": {
    "collapsed": true
   },
   "source": [
    "## Using Julia\n",
    "\n",
    "- Command line **REPL** (Read--Eval--Print Loop):\n",
    "\n",
    "        julia\n",
    "    \n",
    "- Inside **IJulia** notebook (Jupyter notebook with Julia kernel):  \n",
    "https://github.com/JuliaLang/IJulia.jl\n",
    "\n",
    "        jupyter-notebook\n",
    "\n",
    "- Inside the **Juno** IDE, http://junolab.org/\n",
    "\n",
    "\n",
    "- In the 'cloud' via **JuliaBox**, https://juliabox.org/\n",
    "\n",
    "\n",
    "- Recently **SageMathCloud**, https://cloud.sagemath.com/"
   ]
  }
 ],
 "metadata": {
  "kernelspec": {
   "display_name": "Julia 0.4.5",
   "language": "julia",
   "name": "julia-0.4"
  },
  "language_info": {
   "file_extension": ".jl",
   "mimetype": "application/julia",
   "name": "julia",
   "version": "0.4.5"
  }
 },
 "nbformat": 4,
 "nbformat_minor": 0
}
