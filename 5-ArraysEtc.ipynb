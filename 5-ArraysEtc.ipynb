{
 "cells": [
  {
   "cell_type": "markdown",
   "metadata": {},
   "source": [
    "# Arrays and Linear Algebra"
   ]
  },
  {
   "cell_type": "markdown",
   "metadata": {
    "collapsed": true
   },
   "source": [
    "## Arrays and Vectors"
   ]
  },
  {
   "cell_type": "code",
   "execution_count": 15,
   "metadata": {
    "collapsed": false,
    "scrolled": true
   },
   "outputs": [
    {
     "data": {
      "text/plain": [
       "1x5 Array{Int64,2}:\n",
       " 1  2  3  4  5"
      ]
     },
     "execution_count": 15,
     "metadata": {},
     "output_type": "execute_result"
    }
   ],
   "source": [
    "x = [1 2 3 4 5]  # produces a row vector"
   ]
  },
  {
   "cell_type": "code",
   "execution_count": 16,
   "metadata": {
    "collapsed": false
   },
   "outputs": [
    {
     "data": {
      "text/plain": [
       "5x1 Array{Int64,2}:\n",
       " 1\n",
       " 2\n",
       " 3\n",
       " 4\n",
       " 5"
      ]
     },
     "execution_count": 16,
     "metadata": {},
     "output_type": "execute_result"
    }
   ],
   "source": [
    "x'  # transpose x to a column vector"
   ]
  },
  {
   "cell_type": "code",
   "execution_count": 17,
   "metadata": {
    "collapsed": false,
    "scrolled": true
   },
   "outputs": [
    {
     "data": {
      "text/plain": [
       "1x5 Array{Int64,2}:\n",
       " 3  2  1  5  4"
      ]
     },
     "execution_count": 17,
     "metadata": {},
     "output_type": "execute_result"
    }
   ],
   "source": [
    "w = randperm(5)'   # row vector of random permutation of numbers 1 to 5"
   ]
  },
  {
   "cell_type": "markdown",
   "metadata": {},
   "source": [
    "### Array Comprehensions\n",
    "\n",
    "Julia has a neat syntax for constructing arrays from iterables that is very similar to mathematical notation.\n",
    "For example, the squares of the numbers from 1 to 10 is\n",
    "\n",
    "$$\\{x^2: x \\in \\{1,\\ldots,10\\} \\},$$\n",
    "\n",
    "i.e. \"the set of $x^2$ for $x$ from $1$ to $10$.  \n",
    "\n",
    "In Julia we can write similar code to Python list comprehensions:"
   ]
  },
  {
   "cell_type": "code",
   "execution_count": 4,
   "metadata": {
    "collapsed": false
   },
   "outputs": [
    {
     "data": {
      "text/plain": [
       "10-element Array{Int64,1}:\n",
       "   1\n",
       "   4\n",
       "   9\n",
       "  16\n",
       "  25\n",
       "  36\n",
       "  49\n",
       "  64\n",
       "  81\n",
       " 100"
      ]
     },
     "execution_count": 4,
     "metadata": {},
     "output_type": "execute_result"
    }
   ],
   "source": [
    "squares = [x^2 for x in 1:10]"
   ]
  },
  {
   "cell_type": "markdown",
   "metadata": {},
   "source": [
    "###  Some Linear Algebra with Vectors"
   ]
  },
  {
   "cell_type": "code",
   "execution_count": 18,
   "metadata": {
    "collapsed": false
   },
   "outputs": [
    {
     "name": "stdout",
     "output_type": "stream",
     "text": [
      "Add: [4 4 4 9 9]\n",
      "Subtract: [-2 0 2 -1 1]\n",
      "Inner product: [50]\n",
      "Outer product:\n",
      "[3 2 1 5 4\n",
      " 6 4 2 10 8\n",
      " 9 6 3 15 12\n",
      " 12 8 4 20 16\n",
      " 15 10 5 25 20]\n"
     ]
    }
   ],
   "source": [
    "println(\"Add: \", x+w)\n",
    "println(\"Subtract: \", x-w)\n",
    "println(\"Inner product: \", w*x')   # inner product\n",
    "println(\"Outer product:\\n\", x'*w)\n"
   ]
  },
  {
   "cell_type": "markdown",
   "metadata": {},
   "source": [
    "## Matrices, Multidimensional Arrays"
   ]
  },
  {
   "cell_type": "code",
   "execution_count": 20,
   "metadata": {
    "collapsed": false
   },
   "outputs": [
    {
     "data": {
      "text/plain": [
       "2x4 Array{Int64,2}:\n",
       " 1  2  3  4\n",
       " 5  6  7  8"
      ]
     },
     "execution_count": 20,
     "metadata": {},
     "output_type": "execute_result"
    }
   ],
   "source": [
    "M = [1 2 3 4; 5 6 7 8]   # semicolon denotes new row"
   ]
  },
  {
   "cell_type": "code",
   "execution_count": 1,
   "metadata": {
    "collapsed": false,
    "scrolled": true
   },
   "outputs": [
    {
     "data": {
      "text/plain": [
       "4x2 Array{Int8,2}:\n",
       "   56  -106\n",
       " -107   127\n",
       "   32     0\n",
       "  -85     0"
      ]
     },
     "execution_count": 1,
     "metadata": {},
     "output_type": "execute_result"
    }
   ],
   "source": [
    "X = Array{Int8}(4,2)"
   ]
  },
  {
   "cell_type": "code",
   "execution_count": 22,
   "metadata": {
    "collapsed": false
   },
   "outputs": [
    {
     "data": {
      "text/plain": [
       "2x4 Array{Int8,2}:\n",
       "  32  -87  -69  -81\n",
       " 105  127    0    0"
      ]
     },
     "execution_count": 22,
     "metadata": {},
     "output_type": "execute_result"
    }
   ],
   "source": [
    "X'  # transpose"
   ]
  },
  {
   "cell_type": "code",
   "execution_count": 23,
   "metadata": {
    "collapsed": false
   },
   "outputs": [
    {
     "data": {
      "text/plain": [
       "2x3 Array{Int8,2}:\n",
       " 112  -14  105\n",
       "  13  -80  127"
      ]
     },
     "execution_count": 23,
     "metadata": {},
     "output_type": "execute_result"
    }
   ],
   "source": [
    "W = Array{Int8}(2,3)"
   ]
  },
  {
   "cell_type": "markdown",
   "metadata": {},
   "source": [
    "### Some Liner Algebra with Matrices"
   ]
  },
  {
   "cell_type": "code",
   "execution_count": 25,
   "metadata": {
    "collapsed": false
   },
   "outputs": [
    {
     "data": {
      "text/plain": [
       "4x3 Array{Int8,2}:\n",
       "   85  112   55\n",
       "   99   18   82\n",
       "  -48  -58  -77\n",
       " -112  110  -57"
      ]
     },
     "execution_count": 25,
     "metadata": {},
     "output_type": "execute_result"
    }
   ],
   "source": [
    "X*W  # multiply matrices"
   ]
  },
  {
   "cell_type": "markdown",
   "metadata": {},
   "source": [
    "However the following gives an error because the **inner dimensions** do not match:"
   ]
  },
  {
   "cell_type": "code",
   "execution_count": 26,
   "metadata": {
    "collapsed": false
   },
   "outputs": [
    {
     "ename": "LoadError",
     "evalue": "LoadError: DimensionMismatch(\"matrix A has dimensions (2,3), matrix B has dimensions (4,2)\")\nwhile loading In[26], in expression starting on line 1",
     "output_type": "error",
     "traceback": [
      "LoadError: DimensionMismatch(\"matrix A has dimensions (2,3), matrix B has dimensions (4,2)\")\nwhile loading In[26], in expression starting on line 1",
      "",
      " in _generic_matmatmul! at linalg/matmul.jl:454",
      " in generic_matmatmul! at linalg/matmul.jl:445",
      " in * at linalg/matmul.jl:132"
     ]
    }
   ],
   "source": [
    "W*X"
   ]
  },
  {
   "cell_type": "markdown",
   "metadata": {
    "collapsed": true
   },
   "source": [
    "Division, not so simple."
   ]
  },
  {
   "cell_type": "code",
   "execution_count": 27,
   "metadata": {
    "collapsed": false
   },
   "outputs": [
    {
     "data": {
      "text/plain": [
       "3x4 Array{Float64,2}:\n",
       "  0.45287   -0.272058  -0.45      -0.528261\n",
       " -0.436909  -0.268697   0.14258    0.167377\n",
       "  0.981672   0.188382  -0.548342  -0.643705"
      ]
     },
     "execution_count": 27,
     "metadata": {},
     "output_type": "execute_result"
    }
   ],
   "source": [
    "W'/X"
   ]
  },
  {
   "cell_type": "markdown",
   "metadata": {
    "collapsed": true
   },
   "source": [
    "## To Vectorise or Not?\n",
    "In Octave and Matlab vectorising is good, in Julia it may not be. How you write the code may have a dramatic effect on its execution time.\n",
    "\n",
    "Here are two functions that do the same thing but are implemented differently:"
   ]
  },
  {
   "cell_type": "code",
   "execution_count": 1,
   "metadata": {
    "collapsed": false
   },
   "outputs": [],
   "source": [
    "function vecadd1(a,b,c,N)\n",
    "    for i = 1:N\n",
    "      c = a + b \n",
    "    end\n",
    "end\n",
    "\n",
    "function vecadd2(a,b,c,N)\n",
    "    for i = 1:N, j = 1:length(c)\n",
    "      c[j] = a[j] + b[j]\n",
    "    end\n",
    "end\n",
    "\n",
    "A = rand(2); B = rand(2); C = zeros(2)\n",
    "\n",
    "N = 10000000;"
   ]
  },
  {
   "cell_type": "code",
   "execution_count": 2,
   "metadata": {
    "collapsed": false
   },
   "outputs": [
    {
     "data": {
      "text/plain": [
       "1.124879583"
      ]
     },
     "execution_count": 2,
     "metadata": {},
     "output_type": "execute_result"
    }
   ],
   "source": [
    "@elapsed vecadd1(A,B,C,N)"
   ]
  },
  {
   "cell_type": "code",
   "execution_count": 3,
   "metadata": {
    "collapsed": false
   },
   "outputs": [
    {
     "data": {
      "text/plain": [
       "0.103465399"
      ]
     },
     "execution_count": 3,
     "metadata": {},
     "output_type": "execute_result"
    }
   ],
   "source": [
    "@elapsed vecadd2(A,B,C,N)"
   ]
  },
  {
   "cell_type": "code",
   "execution_count": null,
   "metadata": {
    "collapsed": true
   },
   "outputs": [],
   "source": []
  }
 ],
 "metadata": {
  "kernelspec": {
   "display_name": "Julia 0.4.5",
   "language": "julia",
   "name": "julia-0.4"
  },
  "language_info": {
   "file_extension": ".jl",
   "mimetype": "application/julia",
   "name": "julia",
   "version": "0.4.5"
  }
 },
 "nbformat": 4,
 "nbformat_minor": 0
}
