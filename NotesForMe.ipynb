{
 "cells": [
  {
   "cell_type": "markdown",
   "metadata": {},
   "source": [
    "# Play With Julia\n",
    "## Notes to support my presentation"
   ]
  },
  {
   "cell_type": "markdown",
   "metadata": {},
   "source": [
    "###IJulia\n",
    "Follow the IJulia installation notes at\n",
    "https://github.com/JuliaLang/IJulia.jl\n",
    "to enable running Julia in a Jupyter notebook.\n",
    "\n",
    "Namely start Julia at the command line, then at the Julia prompt, type:\n",
    "> `Pkg.add(\"IJulia\")`\n",
    "\n",
    "to install IJulia to your **user** space."
   ]
  },
  {
   "cell_type": "markdown",
   "metadata": {
    "collapsed": true
   },
   "source": [
    "###Jupyter Slideshow\n",
    "Install RISE https://github.com/damianavila/RISE  \n",
    "this is a reveal.js extension for Jupyter."
   ]
  },
  {
   "cell_type": "code",
   "execution_count": null,
   "metadata": {
    "collapsed": true
   },
   "outputs": [],
   "source": []
  }
 ],
 "metadata": {
  "kernelspec": {
   "display_name": "Julia 0.4.5",
   "language": "julia",
   "name": "julia-0.4"
  },
  "language_info": {
   "file_extension": ".jl",
   "mimetype": "application/julia",
   "name": "julia",
   "version": "0.4.5"
  }
 },
 "nbformat": 4,
 "nbformat_minor": 0
}
